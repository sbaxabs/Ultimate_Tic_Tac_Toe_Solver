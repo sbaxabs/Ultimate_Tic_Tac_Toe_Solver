{
 "cells": [
  {
   "cell_type": "code",
   "execution_count": 61,
   "metadata": {},
   "outputs": [],
   "source": [
    "initial_board = [[\" \",\" \",\" \"],[\" \",\" \",\" \"],[\" \",\" \",\" \"]]\n",
    "random_board = [[\"X\",\"O\",\"X\"],[\"O\",\"O\",\"X\"],[\"X\",\"O\",\"O\"]]"
   ]
  },
  {
   "cell_type": "code",
   "execution_count": 7,
   "metadata": {},
   "outputs": [],
   "source": [
    "def showboard(board):\n",
    "    for i in board:\n",
    "        print(i)"
   ]
  },
  {
   "cell_type": "code",
   "execution_count": 66,
   "metadata": {},
   "outputs": [],
   "source": [
    "def checkwin(board):\n",
    "    win_sets = [[[0,0],[0,1],[0,2]],[[1,0],[1,1],[1,2]],[[2,0],[2,1],[2,2]],[[0,0],[1,0],[2,0]],[[0,1],[1,1],[2,1]],[[0,2],[1,2],[2,2]],[[0,0],[1,1],[2,2]],[[2,0],[1,1],[0,2]]]\n",
    "    l=0\n",
    "    for player in [\"X\",\"O\"]:\n",
    "        for set in win_sets:\n",
    "            k = 0\n",
    "            for position in set:\n",
    "                i=position[0]\n",
    "                j=position[1]\n",
    "                if board[i][j] == player:\n",
    "                    k+=1\n",
    "                if board[i][j] == \" \":\n",
    "                    l+=1\n",
    "\n",
    "            if k == 3:\n",
    "                return player\n",
    "            else:\n",
    "                pass\n",
    "    if l > 0:\n",
    "        return(None)\n",
    "    return(\"Tie\")"
   ]
  },
  {
   "cell_type": "code",
   "execution_count": 67,
   "metadata": {},
   "outputs": [
    {
     "data": {
      "text/plain": [
       "'O'"
      ]
     },
     "execution_count": 67,
     "metadata": {},
     "output_type": "execute_result"
    }
   ],
   "source": [
    "checkwin(random_board)"
   ]
  },
  {
   "cell_type": "code",
   "execution_count": 45,
   "metadata": {},
   "outputs": [
    {
     "name": "stdout",
     "output_type": "stream",
     "text": [
      "['X', 'O', 'X']\n",
      "['O', 'O', 'X']\n",
      "['X', 'O', 'O']\n"
     ]
    }
   ],
   "source": [
    "showboard(random_board)"
   ]
  },
  {
   "cell_type": "code",
   "execution_count": 72,
   "metadata": {},
   "outputs": [
    {
     "name": "stdout",
     "output_type": "stream",
     "text": [
      "-1\n"
     ]
    },
    {
     "data": {
      "text/plain": [
       "-1"
      ]
     },
     "execution_count": 72,
     "metadata": {},
     "output_type": "execute_result"
    }
   ],
   "source": [
    "scores = {\"X\":1,\"O\":-1,\"Tie\":0}\n",
    "def minimax(board, depth, isMaximizing):\n",
    "    result = checkwin(board)\n",
    "    if result != None:\n",
    "        print(scores[result])\n",
    "        return scores[result]\n",
    "    if isMaximizing:\n",
    "        bestscore = -100000\n",
    "        for i in range(3):\n",
    "            for j in range(3):\n",
    "                if board[i][j] == \" \":\n",
    "                    board[i][j] = \"X\"\n",
    "                    score = minimax(board, depth+1, False)\n",
    "                    board[i][j] = \" \"\n",
    "                    bestscore = max(score, bestscore)\n",
    "        return(bestscore)\n",
    "    else:\n",
    "        bestscore = 100000\n",
    "        for i in range(3):\n",
    "            for j in range(3):\n",
    "                if board[i][j] == \" \":\n",
    "                    board[i][j] = \"O\"\n",
    "                    score = minimax(board, depth+1, True)\n",
    "                    board[i][j] = \" \"\n",
    "                    bestscore = min(score, bestscore)\n",
    "        return(bestscore)\n",
    "        \n",
    "            \n",
    "    \n",
    "\n",
    "minimax(random_board,0,True)"
   ]
  }
 ],
 "metadata": {
  "kernelspec": {
   "display_name": "Python 3",
   "language": "python",
   "name": "python3"
  },
  "language_info": {
   "codemirror_mode": {
    "name": "ipython",
    "version": 3
   },
   "file_extension": ".py",
   "mimetype": "text/x-python",
   "name": "python",
   "nbconvert_exporter": "python",
   "pygments_lexer": "ipython3",
   "version": "3.11.0"
  }
 },
 "nbformat": 4,
 "nbformat_minor": 2
}
